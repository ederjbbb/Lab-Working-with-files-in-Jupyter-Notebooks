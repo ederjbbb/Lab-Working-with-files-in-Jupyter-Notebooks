{
 "cells": [
  {
   "cell_type": "markdown",
   "id": "b52d68de-dae1-427f-884b-031d2af58359",
   "metadata": {},
   "source": [
    "# Data Science Tools and Ecosystem"
   ]
  },
  {
   "cell_type": "markdown",
   "id": "dea4f38b-6a70-4fad-829c-16f9b61a756b",
   "metadata": {},
   "source": [
    "## In this notebook, Data Science Tools and Ecosystem are summarized."
   ]
  },
  {
   "cell_type": "markdown",
   "id": "4f455562-ecb5-475b-917f-69803f6d45e4",
   "metadata": {},
   "source": [
    "## Objectives:\n",
    "- ###  **Python**\n",
    "- ###  **Scala**\n",
    "- ###  **SQL**\n",
    "- ###  **R**\n",
    "- ###  **Hadoop**"
   ]
  },
  {
   "cell_type": "markdown",
   "id": "9a1ed56f-e295-4fb0-afe2-36af54b8a9b0",
   "metadata": {},
   "source": [
    "## Some of the popular languages that Data Scientists use are:\n",
    "### 1 - Python\n",
    "### 2 - R\n",
    "### 3 - Scala"
   ]
  },
  {
   "cell_type": "markdown",
   "id": "1b4bb343-e324-40ce-a848-757eb39bc30a",
   "metadata": {},
   "source": [
    "## Some of the commonly used libraries used by Data Scientists include:\n",
    "### 1 - Pandas\n",
    "### 2 - NumPy\n",
    "### 3 - Scikit learn\n",
    "### 4 - ThensorFlow\n",
    "### 5 - Matplotlib\n"
   ]
  },
  {
   "cell_type": "markdown",
   "id": "d8dadfcc-d8b0-43cf-ac6d-3391b70eb626",
   "metadata": {},
   "source": [
    "| Data Science Tools |\n",
    "| :- |\n",
    "| Python | \n",
    "| Tableau |\n",
    "| Apache Sparks | "
   ]
  },
  {
   "cell_type": "markdown",
   "id": "fcb0fc28-1d8d-4995-88da-87782fe8b126",
   "metadata": {},
   "source": [
    "#### Below are a few examples of evaluating arithmetic expressions in Python\n",
    "#### 5 --  a number is an arithmetic expression\n",
    "#### (3 + 4) -- the  sum of numbers is an arithmetic expression\n",
    "#### (7 - 3) --  the difference  of two  numbers is an arithmetic expression"
   ]
  },
  {
   "cell_type": "code",
   "execution_count": 8,
   "id": "bbbe63e0-dbf7-415f-b63a-821af78a272d",
   "metadata": {},
   "outputs": [
    {
     "data": {
      "text/plain": [
       "17"
      ]
     },
     "execution_count": 8,
     "metadata": {},
     "output_type": "execute_result"
    }
   ],
   "source": [
    "#This a simple arithmetic expression to mutiply then add integers\n",
    "(3*4)+5"
   ]
  },
  {
   "cell_type": "code",
   "execution_count": 9,
   "id": "c0e97596-d77c-4ac0-ab1f-efeffc956ff0",
   "metadata": {},
   "outputs": [
    {
     "data": {
      "text/plain": [
       "3.3333333333333335"
      ]
     },
     "execution_count": 9,
     "metadata": {},
     "output_type": "execute_result"
    }
   ],
   "source": [
    "#This will convert 200 minutes to hours by diving by 60\n",
    "200 / 60"
   ]
  },
  {
   "cell_type": "markdown",
   "id": "70ada1f8-c877-423d-bd45-156cc7994577",
   "metadata": {},
   "source": [
    "## Author : Eder Brito"
   ]
  },
  {
   "cell_type": "code",
   "execution_count": null,
   "id": "228e01c2-4361-42ba-b0f8-9f12335d4305",
   "metadata": {},
   "outputs": [],
   "source": []
  }
 ],
 "metadata": {
  "kernelspec": {
   "display_name": "Python",
   "language": "python",
   "name": "conda-env-python-py"
  },
  "language_info": {
   "codemirror_mode": {
    "name": "ipython",
    "version": 3
   },
   "file_extension": ".py",
   "mimetype": "text/x-python",
   "name": "python",
   "nbconvert_exporter": "python",
   "pygments_lexer": "ipython3",
   "version": "3.7.12"
  }
 },
 "nbformat": 4,
 "nbformat_minor": 5
}
